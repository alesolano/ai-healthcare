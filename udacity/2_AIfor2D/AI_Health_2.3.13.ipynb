{
 "cells": [
  {
   "cell_type": "code",
   "execution_count": 1,
   "metadata": {},
   "outputs": [],
   "source": [
    "import pandas as pd\n",
    "import numpy as np\n",
    "import pydicom\n",
    "import glob"
   ]
  },
  {
   "cell_type": "code",
   "execution_count": 2,
   "metadata": {},
   "outputs": [],
   "source": [
    "## First, read all of my DICOM files into a list\n",
    "mydicoms = glob.glob(\"*.dcm\")"
   ]
  },
  {
   "cell_type": "markdown",
   "metadata": {},
   "source": [
    "### Let's look at the contents of the first DICOM:"
   ]
  },
  {
   "cell_type": "code",
   "execution_count": 3,
   "metadata": {},
   "outputs": [
    {
     "data": {
      "text/plain": [
       "(0008, 0016) SOP Class UID                       UI: Secondary Capture Image Storage\n",
       "(0008, 0018) SOP Instance UID                    UI: 1.3.6.1.4.1.11129.5.5.162426174634548301003630270411628292460952\n",
       "(0008, 0060) Modality                            CS: 'DX'\n",
       "(0008, 1030) Study Description                   LO: 'Effusion|Nodule|Pleural_Thickening|Mass'\n",
       "(0010, 0020) Patient ID                          LO: '29579'\n",
       "(0010, 0040) Patient's Sex                       CS: 'F'\n",
       "(0010, 1010) Patient's Age                       AS: '24'\n",
       "(0020, 000d) Study Instance UID                  UI: 1.3.6.1.4.1.11129.5.5.113025392650823751977671880960497589856674\n",
       "(0020, 000e) Series Instance UID                 UI: 1.3.6.1.4.1.11129.5.5.168055162156043936178718006100964727334210\n",
       "(0028, 0002) Samples per Pixel                   US: 1\n",
       "(0028, 0004) Photometric Interpretation          CS: 'MONOCHROME2'\n",
       "(0028, 0010) Rows                                US: 1024\n",
       "(0028, 0011) Columns                             US: 1024\n",
       "(0028, 0100) Bits Allocated                      US: 8\n",
       "(0028, 0101) Bits Stored                         US: 8\n",
       "(0028, 0102) High Bit                            US: 7\n",
       "(0028, 0103) Pixel Representation                US: 0\n",
       "(7fe0, 0010) Pixel Data                          OW: Array of 1048576 elements"
      ]
     },
     "execution_count": 3,
     "metadata": {},
     "output_type": "execute_result"
    }
   ],
   "source": [
    "dcm1 = pydicom.dcmread(mydicoms[0])\n",
    "dcm1"
   ]
  },
  {
   "cell_type": "code",
   "execution_count": 4,
   "metadata": {},
   "outputs": [
    {
     "data": {
      "text/plain": [
       "['BitsAllocated',\n",
       " 'BitsStored',\n",
       " 'Columns',\n",
       " 'HighBit',\n",
       " 'Modality',\n",
       " 'PatientAge',\n",
       " 'PatientID',\n",
       " 'PatientSex',\n",
       " 'PhotometricInterpretation',\n",
       " 'PixelData',\n",
       " 'PixelRepresentation',\n",
       " 'Rows',\n",
       " 'SOPClassUID',\n",
       " 'SOPInstanceUID',\n",
       " 'SamplesPerPixel',\n",
       " 'SeriesInstanceUID',\n",
       " 'StudyDescription',\n",
       " 'StudyInstanceUID',\n",
       " '__contains__',\n",
       " '__delattr__',\n",
       " '__delitem__',\n",
       " '__dir__',\n",
       " '__enter__',\n",
       " '__eq__',\n",
       " '__exit__',\n",
       " '__format__',\n",
       " '__ge__',\n",
       " '__getattr__',\n",
       " '__getattribute__',\n",
       " '__getitem__',\n",
       " '__gt__',\n",
       " '__init__',\n",
       " '__init_subclass__',\n",
       " '__iter__',\n",
       " '__le__',\n",
       " '__len__',\n",
       " '__lt__',\n",
       " '__ne__',\n",
       " '__new__',\n",
       " '__reduce__',\n",
       " '__reduce_ex__',\n",
       " '__repr__',\n",
       " '__setattr__',\n",
       " '__setitem__',\n",
       " '__sizeof__',\n",
       " '__str__',\n",
       " '__subclasshook__',\n",
       " '__weakref__',\n",
       " '_character_set',\n",
       " '_convert_pixel_data_using_handler',\n",
       " '_convert_pixel_data_without_handler',\n",
       " '_dataset_slice',\n",
       " '_do_pixel_data_conversion',\n",
       " '_pretty_str',\n",
       " '_slice_dataset',\n",
       " 'add',\n",
       " 'add_new',\n",
       " 'clear',\n",
       " 'convert_pixel_data',\n",
       " 'copy',\n",
       " 'data_element',\n",
       " 'decode',\n",
       " 'decompress',\n",
       " 'dir',\n",
       " 'elements',\n",
       " 'ensure_file_meta',\n",
       " 'fix_meta_info',\n",
       " 'formatted_lines',\n",
       " 'from_json',\n",
       " 'fromkeys',\n",
       " 'get',\n",
       " 'get_item',\n",
       " 'get_private_item',\n",
       " 'group_dataset',\n",
       " 'is_original_encoding',\n",
       " 'items',\n",
       " 'iterall',\n",
       " 'keys',\n",
       " 'overlay_array',\n",
       " 'pixel_array',\n",
       " 'pop',\n",
       " 'popitem',\n",
       " 'private_block',\n",
       " 'private_creators',\n",
       " 'remove_private_tags',\n",
       " 'save_as',\n",
       " 'set_original_encoding',\n",
       " 'setdefault',\n",
       " 'to_json',\n",
       " 'to_json_dict',\n",
       " 'top',\n",
       " 'trait_names',\n",
       " 'update',\n",
       " 'values',\n",
       " 'walk']"
      ]
     },
     "execution_count": 4,
     "metadata": {},
     "output_type": "execute_result"
    }
   ],
   "source": [
    "## Do some exploratory work before about how to extract these attributes using pydicom... \n",
    "dir(dcm1)"
   ]
  },
  {
   "cell_type": "code",
   "execution_count": 6,
   "metadata": {},
   "outputs": [
    {
     "data": {
      "text/plain": [
       "'29579'"
      ]
     },
     "execution_count": 6,
     "metadata": {},
     "output_type": "execute_result"
    }
   ],
   "source": [
    "dcm1.PatientID"
   ]
  },
  {
   "cell_type": "code",
   "execution_count": 7,
   "metadata": {},
   "outputs": [
    {
     "data": {
      "text/plain": [
       "'24'"
      ]
     },
     "execution_count": 7,
     "metadata": {},
     "output_type": "execute_result"
    }
   ],
   "source": [
    "dcm1.PatientAge"
   ]
  },
  {
   "cell_type": "code",
   "execution_count": 8,
   "metadata": {},
   "outputs": [
    {
     "data": {
      "text/plain": [
       "'F'"
      ]
     },
     "execution_count": 8,
     "metadata": {},
     "output_type": "execute_result"
    }
   ],
   "source": [
    "dcm1.PatientSex"
   ]
  },
  {
   "cell_type": "code",
   "execution_count": 9,
   "metadata": {},
   "outputs": [
    {
     "data": {
      "text/plain": [
       "'DX'"
      ]
     },
     "execution_count": 9,
     "metadata": {},
     "output_type": "execute_result"
    }
   ],
   "source": [
    "dcm1.Modality"
   ]
  },
  {
   "cell_type": "code",
   "execution_count": null,
   "metadata": {},
   "outputs": [],
   "source": [
    "dcm1."
   ]
  },
  {
   "cell_type": "code",
   "execution_count": 11,
   "metadata": {},
   "outputs": [
    {
     "data": {
      "text/plain": [
       "1024"
      ]
     },
     "execution_count": 11,
     "metadata": {},
     "output_type": "execute_result"
    }
   ],
   "source": [
    "dcm1.Rows"
   ]
  },
  {
   "cell_type": "code",
   "execution_count": 10,
   "metadata": {},
   "outputs": [
    {
     "data": {
      "text/plain": [
       "1024"
      ]
     },
     "execution_count": 10,
     "metadata": {},
     "output_type": "execute_result"
    }
   ],
   "source": [
    "dcm1.Columns"
   ]
  },
  {
   "cell_type": "markdown",
   "metadata": {},
   "source": [
    "## Now, let's create the dataframe that we want, and populate it in a loop with all of our DICOMS:\n",
    "\n",
    "To complete this exercise, create a single dataframe that has the following columns:\n",
    "- Patient ID\n",
    "- Patient Age (as an integer)\n",
    "- Patient Sex (M/F)\n",
    "- Imaging Modality\n",
    "- Type of finding in the image\n",
    "- Number of rows in the image\n",
    "- Number of columns in the image\n",
    "\n",
    "Save this dataframe as a .CSV file."
   ]
  },
  {
   "cell_type": "code",
   "execution_count": null,
   "metadata": {},
   "outputs": [],
   "source": [
    "\n",
    "\n",
    "\n"
   ]
  }
 ],
 "metadata": {
  "kernelspec": {
   "display_name": "Python 3",
   "language": "python",
   "name": "python3"
  },
  "language_info": {
   "codemirror_mode": {
    "name": "ipython",
    "version": 3
   },
   "file_extension": ".py",
   "mimetype": "text/x-python",
   "name": "python",
   "nbconvert_exporter": "python",
   "pygments_lexer": "ipython3",
   "version": "3.7.6"
  }
 },
 "nbformat": 4,
 "nbformat_minor": 2
}
